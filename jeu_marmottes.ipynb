{
 "cells": [
  {
   "cell_type": "code",
   "execution_count": 1,
   "id": "initial_id",
   "metadata": {
    "collapsed": true,
    "ExecuteTime": {
     "end_time": "2025-06-20T00:27:08.594727Z",
     "start_time": "2025-06-20T00:27:06.842427Z"
    }
   },
   "outputs": [],
   "source": [
    "from croque_marmotte import CroqueLaitue"
   ]
  },
  {
   "cell_type": "code",
   "outputs": [],
   "source": [
    "jeu = CroqueLaitue(2,10)"
   ],
   "metadata": {
    "collapsed": false,
    "ExecuteTime": {
     "end_time": "2025-06-20T00:27:15.390202Z",
     "start_time": "2025-06-20T00:27:15.384974Z"
    }
   },
   "id": "7475aeb000aaa06f",
   "execution_count": 2
  },
  {
   "cell_type": "code",
   "outputs": [
    {
     "name": "stdout",
     "output_type": "stream",
     "text": [
      "Début de la partie! \n",
      "\n",
      "Tour : 1 \n",
      "Vous n'avez pas entré une option possible!\n"
     ]
    },
    {
     "ename": "CircuitError",
     "evalue": "'The amount of qubit arguments 0 does not match the instruction expectation (12).'",
     "output_type": "error",
     "traceback": [
      "\u001B[31m---------------------------------------------------------------------------\u001B[39m",
      "\u001B[31mCircuitError\u001B[39m                              Traceback (most recent call last)",
      "\u001B[36mCell\u001B[39m\u001B[36m \u001B[39m\u001B[32mIn[3]\u001B[39m\u001B[32m, line 1\u001B[39m\n\u001B[32m----> \u001B[39m\u001B[32m1\u001B[39m \u001B[43mjeu\u001B[49m\u001B[43m.\u001B[49m\u001B[43mplay_game\u001B[49m\u001B[43m(\u001B[49m\u001B[43m)\u001B[49m\n",
      "\u001B[36mFile \u001B[39m\u001B[32m~\\Desktop\\Universite\\Ete_2025\\hacketon_2025\\main_challenge_iqucodefest\\croque_marmotte.py:26\u001B[39m, in \u001B[36mCroqueLaitue.play_game\u001B[39m\u001B[34m(self)\u001B[39m\n\u001B[32m     23\u001B[39m \u001B[38;5;28;01mwhile\u001B[39;00m \u001B[38;5;129;01mnot\u001B[39;00m \u001B[38;5;28mself\u001B[39m.partie_terminee:\n\u001B[32m     24\u001B[39m     \u001B[38;5;28mprint\u001B[39m(\u001B[33m\"\u001B[39m\u001B[33mTour : 1 \u001B[39m\u001B[38;5;130;01m\\n\u001B[39;00m\u001B[33m\"\u001B[39m)\n\u001B[32m---> \u001B[39m\u001B[32m26\u001B[39m     \u001B[38;5;28;43mself\u001B[39;49m\u001B[43m.\u001B[49m\u001B[43mjouer_round\u001B[49m\u001B[43m(\u001B[49m\u001B[43m)\u001B[49m\n\u001B[32m     27\u001B[39m     \u001B[38;5;28mself\u001B[39m._read_measure()\n\u001B[32m     28\u001B[39m     \u001B[38;5;28;01mfor\u001B[39;00m i, marmotte \u001B[38;5;129;01min\u001B[39;00m \u001B[38;5;28menumerate\u001B[39m(\u001B[38;5;28mself\u001B[39m._marmottes):\n",
      "\u001B[36mFile \u001B[39m\u001B[32m~\\Desktop\\Universite\\Ete_2025\\hacketon_2025\\main_challenge_iqucodefest\\croque_marmotte.py:68\u001B[39m, in \u001B[36mCroqueLaitue.jouer_round\u001B[39m\u001B[34m(self)\u001B[39m\n\u001B[32m     65\u001B[39m         joueur += \u001B[32m1\u001B[39m\n\u001B[32m     67\u001B[39m qc_complet = \u001B[38;5;28mself\u001B[39m._initialize_circuit()\n\u001B[32m---> \u001B[39m\u001B[32m68\u001B[39m \u001B[43mqc_complet\u001B[49m\u001B[43m.\u001B[49m\u001B[43mappend\u001B[49m\u001B[43m(\u001B[49m\u001B[43mqc_avancer\u001B[49m\u001B[43m)\u001B[49m\n\u001B[32m     69\u001B[39m qc_complet.append(qc_terrier)\n\u001B[32m     70\u001B[39m qc_complet.append(qc_intriq, \u001B[38;5;28mrange\u001B[39m(\u001B[38;5;28mself\u001B[39m.num_players))\n",
      "\u001B[36mFile \u001B[39m\u001B[32m~\\Desktop\\Universite\\Ete_2025\\hacketon_2025\\.venv\\Lib\\site-packages\\qiskit\\circuit\\quantumcircuit.py:2558\u001B[39m, in \u001B[36mQuantumCircuit.append\u001B[39m\u001B[34m(self, instruction, qargs, cargs, copy)\u001B[39m\n\u001B[32m   2552\u001B[39m broadcast_iter = (\n\u001B[32m   2553\u001B[39m     operation.broadcast_arguments(expanded_qargs, expanded_cargs)\n\u001B[32m   2554\u001B[39m     \u001B[38;5;28;01mif\u001B[39;00m \u001B[38;5;28misinstance\u001B[39m(operation, Instruction)\n\u001B[32m   2555\u001B[39m     \u001B[38;5;28;01melse\u001B[39;00m Instruction.broadcast_arguments(operation, expanded_qargs, expanded_cargs)\n\u001B[32m   2556\u001B[39m )\n\u001B[32m   2557\u001B[39m base_instruction = CircuitInstruction(operation, (), ())\n\u001B[32m-> \u001B[39m\u001B[32m2558\u001B[39m \u001B[43m\u001B[49m\u001B[38;5;28;43;01mfor\u001B[39;49;00m\u001B[43m \u001B[49m\u001B[43mqarg\u001B[49m\u001B[43m,\u001B[49m\u001B[43m \u001B[49m\u001B[43mcarg\u001B[49m\u001B[43m \u001B[49m\u001B[38;5;129;43;01min\u001B[39;49;00m\u001B[43m \u001B[49m\u001B[43mbroadcast_iter\u001B[49m\u001B[43m:\u001B[49m\n\u001B[32m   2559\u001B[39m \u001B[43m    \u001B[49m\u001B[38;5;28;43mself\u001B[39;49m\u001B[43m.\u001B[49m\u001B[43m_check_dups\u001B[49m\u001B[43m(\u001B[49m\u001B[43mqarg\u001B[49m\u001B[43m)\u001B[49m\n\u001B[32m   2560\u001B[39m \u001B[43m    \u001B[49m\u001B[43minstruction\u001B[49m\u001B[43m \u001B[49m\u001B[43m=\u001B[49m\u001B[43m \u001B[49m\u001B[43mbase_instruction\u001B[49m\u001B[43m.\u001B[49m\u001B[43mreplace\u001B[49m\u001B[43m(\u001B[49m\u001B[43mqubits\u001B[49m\u001B[43m=\u001B[49m\u001B[43mqarg\u001B[49m\u001B[43m,\u001B[49m\u001B[43m \u001B[49m\u001B[43mclbits\u001B[49m\u001B[43m=\u001B[49m\u001B[43mcarg\u001B[49m\u001B[43m)\u001B[49m\n",
      "\u001B[36mFile \u001B[39m\u001B[32m~\\Desktop\\Universite\\Ete_2025\\hacketon_2025\\.venv\\Lib\\site-packages\\qiskit\\circuit\\instruction.py:588\u001B[39m, in \u001B[36mInstruction.broadcast_arguments\u001B[39m\u001B[34m(self, qargs, cargs)\u001B[39m\n\u001B[32m    573\u001B[39m \u001B[38;5;250m\u001B[39m\u001B[33;03m\"\"\"\u001B[39;00m\n\u001B[32m    574\u001B[39m \u001B[33;03mValidation of the arguments.\u001B[39;00m\n\u001B[32m    575\u001B[39m \n\u001B[32m   (...)\u001B[39m\u001B[32m    585\u001B[39m \u001B[33;03m        arguments does not match the gate expectation.\u001B[39;00m\n\u001B[32m    586\u001B[39m \u001B[33;03m\"\"\"\u001B[39;00m\n\u001B[32m    587\u001B[39m \u001B[38;5;28;01mif\u001B[39;00m \u001B[38;5;28mlen\u001B[39m(qargs) != \u001B[38;5;28mself\u001B[39m.num_qubits:\n\u001B[32m--> \u001B[39m\u001B[32m588\u001B[39m     \u001B[38;5;28;01mraise\u001B[39;00m CircuitError(\n\u001B[32m    589\u001B[39m         \u001B[33mf\u001B[39m\u001B[33m\"\u001B[39m\u001B[33mThe amount of qubit arguments \u001B[39m\u001B[38;5;132;01m{\u001B[39;00m\u001B[38;5;28mlen\u001B[39m(qargs)\u001B[38;5;132;01m}\u001B[39;00m\u001B[33m does not match\u001B[39m\u001B[33m\"\u001B[39m\n\u001B[32m    590\u001B[39m         \u001B[33mf\u001B[39m\u001B[33m\"\u001B[39m\u001B[33m the instruction expectation (\u001B[39m\u001B[38;5;132;01m{\u001B[39;00m\u001B[38;5;28mself\u001B[39m.num_qubits\u001B[38;5;132;01m}\u001B[39;00m\u001B[33m).\u001B[39m\u001B[33m\"\u001B[39m\n\u001B[32m    591\u001B[39m     )\n\u001B[32m    592\u001B[39m \u001B[38;5;28;01mif\u001B[39;00m \u001B[38;5;28mlen\u001B[39m(cargs) != \u001B[38;5;28mself\u001B[39m.num_clbits:\n\u001B[32m    593\u001B[39m     \u001B[38;5;28;01mraise\u001B[39;00m CircuitError(\n\u001B[32m    594\u001B[39m         \u001B[33mf\u001B[39m\u001B[33m\"\u001B[39m\u001B[33mThe amount of clbit arguments \u001B[39m\u001B[38;5;132;01m{\u001B[39;00m\u001B[38;5;28mlen\u001B[39m(cargs)\u001B[38;5;132;01m}\u001B[39;00m\u001B[33m does not match\u001B[39m\u001B[33m\"\u001B[39m\n\u001B[32m    595\u001B[39m         \u001B[33mf\u001B[39m\u001B[33m\"\u001B[39m\u001B[33m the instruction expectation (\u001B[39m\u001B[38;5;132;01m{\u001B[39;00m\u001B[38;5;28mself\u001B[39m.num_clbits\u001B[38;5;132;01m}\u001B[39;00m\u001B[33m).\u001B[39m\u001B[33m\"\u001B[39m\n\u001B[32m    596\u001B[39m     )\n",
      "\u001B[31mCircuitError\u001B[39m: 'The amount of qubit arguments 0 does not match the instruction expectation (12).'"
     ]
    }
   ],
   "source": [
    "jeu.play_game()"
   ],
   "metadata": {
    "collapsed": false,
    "ExecuteTime": {
     "end_time": "2025-06-20T00:27:25.456952Z",
     "start_time": "2025-06-20T00:27:20.248234Z"
    }
   },
   "id": "929ab215f7a91b1a",
   "execution_count": 3
  },
  {
   "cell_type": "code",
   "outputs": [],
   "source": [],
   "metadata": {
    "collapsed": false
   },
   "id": "4f1e7f852e41c85c"
  }
 ],
 "metadata": {
  "kernelspec": {
   "display_name": "Python 3",
   "language": "python",
   "name": "python3"
  },
  "language_info": {
   "codemirror_mode": {
    "name": "ipython",
    "version": 2
   },
   "file_extension": ".py",
   "mimetype": "text/x-python",
   "name": "python",
   "nbconvert_exporter": "python",
   "pygments_lexer": "ipython2",
   "version": "2.7.6"
  }
 },
 "nbformat": 4,
 "nbformat_minor": 5
}
