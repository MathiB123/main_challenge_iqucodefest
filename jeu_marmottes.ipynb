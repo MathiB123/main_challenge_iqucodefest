{
 "cells": [
  {
   "cell_type": "code",
   "execution_count": null,
   "id": "initial_id",
   "metadata": {
    "collapsed": true
   },
   "outputs": [],
   "source": [
    "from croque_marmotte import CroqueLaitue\n",
    "from renderer import Renderer"
   ]
  },
  {
   "cell_type": "code",
   "execution_count": null,
   "id": "7475aeb000aaa06f",
   "metadata": {
    "collapsed": false
   },
   "outputs": [],
   "source": [
    "jeu = CroqueLaitue(2,10)"
   ]
  },
  {
   "cell_type": "code",
   "execution_count": null,
   "id": "929ab215f7a91b1a",
   "metadata": {
    "collapsed": false
   },
   "outputs": [],
   "source": [
    "jeu.play_game()"
   ]
  }
 ],
 "metadata": {
  "kernelspec": {
   "display_name": "Python 3",
   "language": "python",
   "name": "python3"
  },
  "language_info": {
   "codemirror_mode": {
    "name": "ipython",
    "version": 3
   },
   "file_extension": ".py",
   "mimetype": "text/x-python",
   "name": "python",
   "nbconvert_exporter": "python",
   "pygments_lexer": "ipython3",
   "version": "3.12.6"
  }
 },
 "nbformat": 4,
 "nbformat_minor": 5
}
