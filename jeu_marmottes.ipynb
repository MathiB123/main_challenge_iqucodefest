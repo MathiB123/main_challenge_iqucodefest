{
 "cells": [
  {
   "cell_type": "code",
   "execution_count": 1,
   "id": "initial_id",
   "metadata": {
    "collapsed": true
   },
   "outputs": [],
   "source": [
    "from croque_marmotte import CroqueLaitue\n",
    "from renderer import Renderer"
   ]
  },
  {
   "cell_type": "markdown",
   "id": "a53533b52317d7e5",
   "metadata": {
    "collapsed": false
   },
   "source": [
    "# Welcome to the game Bite-Lettuce!"
   ]
  },
  {
   "cell_type": "markdown",
   "id": "f2d64b2370843b59",
   "metadata": {
    "collapsed": false
   },
   "source": [
    "In this game, the goal is to reach the tile of the lettuce with your groundhog. "
   ]
  },
  {
   "cell_type": "markdown",
   "id": "1ca5b57ca06bf92a",
   "metadata": {
    "collapsed": false
   },
   "source": [
    "## Possible moves"
   ]
  },
  {
   "cell_type": "markdown",
   "id": "a04446bdadb56ca3",
   "metadata": {
    "collapsed": false
   },
   "source": [
    "At each turn, you can choose to either move forward one tile (\"*frolic in the garden*\"), move forward multiple tiles (\"*dig a tunnel*\") or intricate your groundhog with another player (\"*make a friend*\").\n",
    "\n",
    "If you choose to \"*frolic in the garden*\", your groundhog will reach the next tile. \n",
    "\n",
    "If you choose to \"*dig a tunnel*\", you will need to specify how many tiles you want to skip ahead. However, there's a probability of $1/n^2$ that you will succeed, so the greedier you are, the less likely you are to succeed. If you don't succeed, you stay in place.\n",
    "\n",
    "If you choose to \"*make a friend*\", you try to move forward to the tile of another player. The probability of you succeeding is calculated classically by sampling a number uniformly between 1 and 0. if you succeed, you move forward to the tile of your new friend, and if you don't, you stay where you are."
   ]
  },
  {
   "cell_type": "markdown",
   "id": "a5cb8ff5472a62c5",
   "metadata": {
    "collapsed": false
   },
   "source": [
    "## Play one turn"
   ]
  },
  {
   "cell_type": "markdown",
   "id": "30269b13113a2c78",
   "metadata": {
    "collapsed": false
   },
   "source": [
    "After each player has done his move, we verify if the tiles are traps or grass. We do so by measuring the quantum circuit. \n",
    "\n",
    "If player 0 has tried to make friends with player 1, he dies if his friend dies, even if he has not reached the tile of player 1. Player 1 is not affected by the state of player 0. "
   ]
  },
  {
   "cell_type": "markdown",
   "id": "31464c158f6518b8",
   "metadata": {
    "collapsed": false
   },
   "source": [
    "# ... It's your time to play!"
   ]
  },
  {
   "cell_type": "markdown",
   "id": "5c05af068b9fedd0",
   "metadata": {
    "collapsed": false
   },
   "source": [
    "Choose the number of tiles (`num_tiles`) and the number of players (`num_players`). By default, each player has two groundhogs, and when one of your groundhog dies, the other will start back at tile 0."
   ]
  },
  {
   "cell_type": "code",
   "execution_count": 2,
   "id": "683d3361dc097704",
   "metadata": {
    "collapsed": false
   },
   "outputs": [],
   "source": [
    "num_players = 2\n",
    "num_tiles = 10"
   ]
  },
  {
   "cell_type": "code",
   "execution_count": 3,
   "id": "7475aeb000aaa06f",
   "metadata": {
    "collapsed": false
   },
   "outputs": [],
   "source": [
    "jeu = CroqueLaitue(num_players=num_players,num_dalles=num_tiles)"
   ]
  },
  {
   "cell_type": "code",
   "execution_count": null,
   "id": "929ab215f7a91b1a",
   "metadata": {
    "collapsed": false
   },
   "outputs": [],
   "source": [
    "jeu.play_game()"
   ]
  }
 ],
 "metadata": {
  "kernelspec": {
   "display_name": "Python 3",
   "language": "python",
   "name": "python3"
  },
  "language_info": {
   "codemirror_mode": {
    "name": "ipython",
    "version": 3
   },
   "file_extension": ".py",
   "mimetype": "text/x-python",
   "name": "python",
   "nbconvert_exporter": "python",
   "pygments_lexer": "ipython3",
   "version": "3.12.6"
  }
 },
 "nbformat": 4,
 "nbformat_minor": 5
}
