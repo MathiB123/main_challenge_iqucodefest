{
 "cells": [
  {
   "cell_type": "code",
   "execution_count": null,
   "id": "initial_id",
   "metadata": {
    "collapsed": true
   },
   "outputs": [
    {
     "ename": "ImportError",
     "evalue": "cannot import name 'CroqueLaitueq' from 'croque_marmotte' (c:\\Users\\mathi\\OneDrive\\Documents\\uni\\T3\\main_challenge_iqucodefest\\croque_marmotte.py)",
     "output_type": "error",
     "traceback": [
      "\u001b[31m---------------------------------------------------------------------------\u001b[39m",
      "\u001b[31mImportError\u001b[39m                               Traceback (most recent call last)",
      "\u001b[36mCell\u001b[39m\u001b[36m \u001b[39m\u001b[32mIn[1]\u001b[39m\u001b[32m, line 1\u001b[39m\n\u001b[32m----> \u001b[39m\u001b[32m1\u001b[39m \u001b[38;5;28;01mfrom\u001b[39;00m\u001b[38;5;250m \u001b[39m\u001b[34;01mcroque_marmotte\u001b[39;00m\u001b[38;5;250m \u001b[39m\u001b[38;5;28;01mimport\u001b[39;00m CroqueLaitueq\n",
      "\u001b[31mImportError\u001b[39m: cannot import name 'CroqueLaitueq' from 'croque_marmotte' (c:\\Users\\mathi\\OneDrive\\Documents\\uni\\T3\\main_challenge_iqucodefest\\croque_marmotte.py)"
     ]
    }
   ],
   "source": [
    "from croque_marmotte import CroqueLaitue"
   ]
  },
  {
   "cell_type": "code",
   "execution_count": null,
   "id": "7475aeb000aaa06f",
   "metadata": {
    "collapsed": false
   },
   "outputs": [],
   "source": [
    "jeu = CroqueLaitue(2,10)"
   ]
  },
  {
   "cell_type": "code",
   "execution_count": null,
   "id": "929ab215f7a91b1a",
   "metadata": {
    "collapsed": false
   },
   "outputs": [
    {
     "name": "stdout",
     "output_type": "stream",
     "text": [
      "Début de la partie! \n",
      "\n",
      "Tour : 0\n",
      "On ne peut pas s'intriquer avec soi-même!\n",
      "On ne peut pas s'intriquer avec soi-même!\n",
      "Joueur 0 s'intrique avec joueur 1\n",
      "Joueur 1 avance d'une case\n",
      "[{'num_marmottes': 2, 'position': 0}, {'num_marmottes': 2, 'position': 1}] \n",
      "\n",
      "Tour : 1\n"
     ]
    },
    {
     "ename": "SystemExit",
     "evalue": "Vous avez quitté avec succès.",
     "output_type": "error",
     "traceback": [
      "An exception has occurred, use %tb to see the full traceback.\n",
      "\u001b[31mSystemExit\u001b[39m\u001b[31m:\u001b[39m Vous avez quitté avec succès.\n"
     ]
    },
    {
     "name": "stderr",
     "output_type": "stream",
     "text": [
      "c:\\Users\\mathi\\OneDrive\\Documents\\uni\\T3\\main_challenge_iqucodefest\\.venv\\Lib\\site-packages\\IPython\\core\\interactiveshell.py:3680: UserWarning: To exit: use 'exit', 'quit', or Ctrl-D.\n",
      "  warn(\"To exit: use 'exit', 'quit', or Ctrl-D.\", stacklevel=1)\n"
     ]
    }
   ],
   "source": [
    "jeu.play_game()"
   ]
  }
 ],
 "metadata": {
  "kernelspec": {
   "display_name": ".venv",
   "language": "python",
   "name": "python3"
  },
  "language_info": {
   "codemirror_mode": {
    "name": "ipython",
    "version": 3
   },
   "file_extension": ".py",
   "mimetype": "text/x-python",
   "name": "python",
   "nbconvert_exporter": "python",
   "pygments_lexer": "ipython3",
   "version": "3.12.10"
  }
 },
 "nbformat": 4,
 "nbformat_minor": 5
}
