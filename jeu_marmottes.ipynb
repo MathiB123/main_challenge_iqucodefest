{
 "cells": [
  {
   "cell_type": "code",
   "execution_count": 1,
   "id": "initial_id",
   "metadata": {
    "collapsed": true
   },
   "outputs": [],
   "source": [
    "from croque_marmotte import CroqueLaitue\n",
    "from renderer import Renderer"
   ]
  },
  {
   "cell_type": "code",
   "execution_count": 2,
   "id": "7475aeb000aaa06f",
   "metadata": {
    "collapsed": false
   },
   "outputs": [],
   "source": [
    "jeu = CroqueLaitue(2,10)"
   ]
  },
  {
   "cell_type": "code",
   "execution_count": 3,
   "id": "929ab215f7a91b1a",
   "metadata": {
    "collapsed": false
   },
   "outputs": [
    {
     "name": "stdout",
     "output_type": "stream",
     "text": [
      "Partie terminée! Le joueur 0 a gagné!\n",
      "Partie terminée! Le joueur 1 a gagné!\n",
      "________ ________ ________ ________ ________\n",
      "|      | |      | |      | |      | |      |\n",
      "|      | |      | |      | |      | |      |\n",
      "|      | |      | |      | |      | |      |\n",
      "|      | |      | |      | |      | |      |\n",
      "|______| |______| |______| |______| |______|\n",
      "________ ________ ________ ________ ________\n",
      "|      | |      | |      | |      | |^_____|\n",
      "|      | |      | |      | |      | ||  o /|\n",
      "|      | |      | |      | |      | ||   / |\n",
      "|      | |      | |      | |      | ||___|1|\n",
      "|______| |______| |______| |______| |______|\n",
      "\n"
     ]
    }
   ],
   "source": [
    "jeu.play_game()"
   ]
  }
 ],
 "metadata": {
  "kernelspec": {
   "display_name": "Python 3",
   "language": "python",
   "name": "python3"
  },
  "language_info": {
   "codemirror_mode": {
    "name": "ipython",
    "version": 3
   },
   "file_extension": ".py",
   "mimetype": "text/x-python",
   "name": "python",
   "nbconvert_exporter": "python",
   "pygments_lexer": "ipython3",
   "version": "3.12.6"
  }
 },
 "nbformat": 4,
 "nbformat_minor": 5
}
